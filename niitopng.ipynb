{
 "cells": [
  {
   "cell_type": "markdown",
   "id": "7310d227-6367-4a87-a5dc-ed6448f42c9b",
   "metadata": {},
   "source": [
    "# nii to png"
   ]
  },
  {
   "cell_type": "markdown",
   "id": "dd977291-d286-4083-928e-ba6df6483258",
   "metadata": {},
   "source": [
    "## Reference\n",
    "\n",
    "- https://www.jianshu.com/p/49f74b3a2a1d\n",
    "\n",
    "- https://zhuanlan.zhihu.com/p/474649700"
   ]
  },
  {
   "cell_type": "markdown",
   "id": "23c3b561-b0e5-4490-8c13-239f25831d23",
   "metadata": {},
   "source": [
    "## Test"
   ]
  },
  {
   "cell_type": "markdown",
   "id": "523b2999-a7dc-4ab7-ae18-6a6b4fdb3639",
   "metadata": {},
   "source": [
    "```\n",
    "import numpy as np\n",
    "import os #遍历文件夹\n",
    "import nibabel as nib\n",
    "import imageio #转换成图像\n",
    "\n",
    "def nii_to_image(niifile):\n",
    "    filenames = os.listdir(filepath)  #读取nii文件\n",
    "    slice_trans = []\n",
    "\n",
    "    for f in filenames:\n",
    "        #开始读取nii文件\n",
    "        img_path = os.path.join(filepath, f)\n",
    "        img = nib.load(img_path)  #读取nii\n",
    "        img_fdata = img.get_fdata()\n",
    "        fname = f.replace('.nii', '') #去掉nii的后缀名\n",
    "        img_f_path = os.path.join(imgfile, fname)\n",
    "        # 创建nii对应图像的文件夹\n",
    "        if not os.path.exists(img_f_path):\n",
    "            os.mkdir(img_f_path)  #新建文件夹\n",
    "\n",
    "        #开始转换图像\n",
    "        (x,y,z) = img.shape\n",
    "        for i in range(z):   #是z的图象序列\n",
    "            slice = img_fdata[i, :, :]  #选择哪个方向的切片自己决定\n",
    "            imageio.imwrite(os.path.join(img_f_path, '{}.png'.format(i)), slice)\n",
    "\n",
    "if __name__ == '__main__':\n",
    "    filepath = 'brats20/'\n",
    "    imgfile = 'brats20_png/'\n",
    "    nii_to_image(filepath)\n",
    "```"
   ]
  },
  {
   "cell_type": "code",
   "execution_count": 1,
   "id": "72ff07d7",
   "metadata": {},
   "outputs": [],
   "source": [
    "# 导入相关的包\n",
    "import radiomics\n",
    "import SimpleITK as sitk\n",
    "import matplotlib.pyplot as plt\n",
    "from PIL import Image\n",
    "import numpy as np\n",
    "import glob \n",
    "\n",
    "# 读取nii数据\n",
    "itk_img=sitk.ReadImage('brats20/BraTS20_Training_001_flair.nii')\n",
    "img = sitk.GetArrayFromImage(itk_img)\n",
    "img.shape   # 查看形状 (109, 512, 512) 共109张512*512的单通道灰度图片\n",
    "# plt.imshow(img[50],cmap='gray')  # 展示其中一张有mask的图片\n",
    "\n",
    "# 通过plt.imsave保存为png格式（此处有坑，有空了再补吧）\n",
    "all_img=[]\n",
    "for n,im in enumerate(img):\n",
    "    plt.imsave('brats20_png/mask_{:0>3d}.png'.format(n),im,cmap='gray')   # {:0>3d}字符串格式化右对齐3位，用0补齐"
   ]
  },
  {
   "cell_type": "code",
   "execution_count": null,
   "id": "d5a06f7e-0981-4a27-96b8-0d54ce174b2e",
   "metadata": {},
   "outputs": [],
   "source": []
  }
 ],
 "metadata": {
  "kernelspec": {
   "display_name": "Python 3 (ipykernel)",
   "language": "python",
   "name": "python3"
  },
  "language_info": {
   "codemirror_mode": {
    "name": "ipython",
    "version": 3
   },
   "file_extension": ".py",
   "mimetype": "text/x-python",
   "name": "python",
   "nbconvert_exporter": "python",
   "pygments_lexer": "ipython3",
   "version": "3.10.13"
  }
 },
 "nbformat": 4,
 "nbformat_minor": 5
}
